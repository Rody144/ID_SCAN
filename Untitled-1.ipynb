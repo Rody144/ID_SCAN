{
 "cells": [
  {
   "cell_type": "code",
   "execution_count": 1,
   "id": "6458f215",
   "metadata": {},
   "outputs": [
    {
     "name": "stdout",
     "output_type": "stream",
     "text": [
      "Requirement already satisfied: pytesseract in c:\\users\\ehabs\\appdata\\local\\programs\\python\\python313\\lib\\site-packages (0.3.13)\n",
      "Requirement already satisfied: packaging>=21.3 in c:\\users\\ehabs\\appdata\\local\\programs\\python\\python313\\lib\\site-packages (from pytesseract) (24.2)\n",
      "Requirement already satisfied: Pillow>=8.0.0 in c:\\users\\ehabs\\appdata\\local\\programs\\python\\python313\\lib\\site-packages (from pytesseract) (11.1.0)\n"
     ]
    },
    {
     "name": "stderr",
     "output_type": "stream",
     "text": [
      "\n",
      "[notice] A new release of pip is available: 24.3.1 -> 25.0.1\n",
      "[notice] To update, run: C:\\Users\\ehabs\\AppData\\Local\\Programs\\Python\\Python313\\python.exe -m pip install --upgrade pip\n"
     ]
    }
   ],
   "source": [
    "!pip install pytesseract"
   ]
  },
  {
   "cell_type": "code",
   "execution_count": 3,
   "id": "ca75ed81",
   "metadata": {},
   "outputs": [
    {
     "name": "stdout",
     "output_type": "stream",
     "text": [
      "Overwriting ID_Scanner.py\n"
     ]
    }
   ],
   "source": [
    "%%writefile ID_Scanner.py\n",
    "import streamlit as st\n",
    "import cv2\n",
    "import pytesseract\n",
    "from PIL import Image\n",
    "import numpy as np\n",
    "\n",
    "\n",
    "st.title(\"ID Scanner App\")\n",
    "\n",
    "uploaded_image = st.file_uploader(\"Please upload an image...\", type=[\"jpg\", \"png\", \"jpeg\",'webp'])\n",
    "\n",
    "pytesseract.pytesseract.tesseract_cmd = r\"C:\\Program Files\\Tesseract-OCR\\tesseract.exe\"\n",
    "# The Alternative\n",
    "# API------> GIMNIN --> extract text from image --> text\n",
    "\n",
    "\n",
    "def Extrat_text_fun(img):\n",
    "    text = pytesseract.image_to_string(img)\n",
    "    return text\n",
    "\n",
    "\n",
    "\n",
    "if uploaded_image is not None:\n",
    "    img = Image.open(uploaded_image)\n",
    "    # convert image --> array\n",
    "    img_array = np.array(img)\n",
    "    #show img on st\n",
    "    st.image(img_array, caption=\"Uploaded Image...\")\n",
    "\n",
    "\n",
    "    with st.spinner('Extracting text from your ID...'):\n",
    "        ext_text = Extrat_text_fun(img_array)\n",
    "        # st.write(ext_text)\n",
    "        st.subheader(\"Extracted Text:\")\n",
    "        text_list = ext_text.splitlines()\n",
    "        # st.write(text_list)\n",
    "        st.write('Organiztion Name :',text_list[0]+ ' ' + text_list[1])\n",
    "        st.write('Employee Name :',text_list[8])\n",
    "        st.write(text_list[3])\n",
    "        st.write(text_list[4])\n",
    "        st.write(text_list[5])\n",
    "        st.write(text_list[6])\n"
   ]
  }
 ],
 "metadata": {
  "kernelspec": {
   "display_name": "Python 3",
   "language": "python",
   "name": "python3"
  },
  "language_info": {
   "codemirror_mode": {
    "name": "ipython",
    "version": 3
   },
   "file_extension": ".py",
   "mimetype": "text/x-python",
   "name": "python",
   "nbconvert_exporter": "python",
   "pygments_lexer": "ipython3",
   "version": "3.11.1"
  }
 },
 "nbformat": 4,
 "nbformat_minor": 5
}
